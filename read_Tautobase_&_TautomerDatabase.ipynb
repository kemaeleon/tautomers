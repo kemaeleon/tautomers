{
 "cells": [
  {
   "cell_type": "code",
   "execution_count": null,
   "id": "e1c0aff8",
   "metadata": {},
   "outputs": [],
   "source": [
    "import rdkit\n",
    "from rdkit import Chem\n",
    "from rdkit.Chem import AllChem\n",
    "from rdkit.Chem import Draw\n",
    "from rdkit.Chem import PandasTools\n",
    "from rdkit.Chem.Draw import IPythonConsole\n",
    "from IPython.display import SVG, display\n",
    "import pandas as pd\n",
    "from IPython.core.display import HTML\n",
    "\n"
   ]
  },
  {
   "cell_type": "code",
   "execution_count": null,
   "id": "bd177179",
   "metadata": {},
   "outputs": [],
   "source": [
    "def draw_reaction(smarts_str):\n",
    "   return Draw.ReactionToImage(smarts_str)"
   ]
  },
  {
   "cell_type": "markdown",
   "id": "5794875f",
   "metadata": {},
   "source": [
    "##### Taylor &  Kenny, Tautobase, https://github.com/WahlOya/Tautobase "
   ]
  },
  {
   "cell_type": "code",
   "execution_count": null,
   "id": "256eb2d9",
   "metadata": {},
   "outputs": [],
   "source": [
    "with open(\"Tautobase_SMIRKS.txt\") as fp:\n",
    "    lines = fp.readlines()\n",
    "rs = []  \n",
    "\n",
    "print(len(lines))\n",
    "for l in lines:\n",
    "    try: \n",
    "        row = str(l).split()\n",
    "        r = row[0]\n",
    "        logK = row[2]\n",
    "        phase = row[3]\n",
    "        rxn = AllChem.ReactionFromSmarts(r)\n",
    "        rxn_smi = AllChem.ReactionFromSmarts(r,useSmiles= True)\n",
    "        rs.append({\"rxn\":rxn,\"rxn_smi\":rxn_smi,\"logk\":logK, \"phase\": phase})\n",
    "    except Exception as e:\n",
    "        print(e)\n",
    "\n",
    "for count,s in enumerate(rs):\n",
    "    logk = s[\"logk\"]\n",
    "    phase = s[\"phase\"]\n",
    "    print(count, f'logk:{logk}',f'solvent: {phase}')\n",
    "    rule= draw_reaction(s[\"rxn\"])\n",
    "    molecules=draw_reaction(s[\"rxn_smi\"])\n",
    "    display(rule, molecules)\n",
    "    \n"
   ]
  },
  {
   "cell_type": "markdown",
   "id": "91d316eb",
   "metadata": {},
   "source": [
    "##### Dhaked, Guasch & Nicklaus, Tautomer Database, https://www.ncbi.nlm.nih.gov/pmc/articles/PMC8456363/"
   ]
  },
  {
   "cell_type": "code",
   "execution_count": null,
   "id": "6959a469",
   "metadata": {},
   "outputs": [],
   "source": [
    "def show(df):\n",
    "    return HTML(df.to_html(notebook=True))"
   ]
  },
  {
   "cell_type": "code",
   "execution_count": null,
   "id": "fb291c96",
   "metadata": {},
   "outputs": [],
   "source": [
    "db2 = pd.read_excel(\"Tautomer_database_release_3a.xlsx\", usecols=[\"SMILES_1\", \"SMILES_2\"])"
   ]
  },
  {
   "cell_type": "code",
   "execution_count": null,
   "id": "e7c26708",
   "metadata": {},
   "outputs": [],
   "source": [
    "PandasTools.RenderImagesInAllDataFrames(images=True)"
   ]
  },
  {
   "cell_type": "code",
   "execution_count": null,
   "id": "49bfb5a4",
   "metadata": {},
   "outputs": [],
   "source": [
    "rdkit.Chem.PandasTools.AddMoleculeColumnToFrame(db2, smilesCol='SMILES_1', molCol='ROMol', includeFingerprints=False)\n",
    "rdkit.Chem.PandasTools.AddMoleculeColumnToFrame(db2, smilesCol='SMILES_2', molCol='ROMol2', includeFingerprints=False)"
   ]
  },
  {
   "cell_type": "code",
   "execution_count": null,
   "id": "5db273c0",
   "metadata": {},
   "outputs": [],
   "source": [
    "db2=db2[[\"ROMol\",\"ROMol2\"]]"
   ]
  },
  {
   "cell_type": "code",
   "execution_count": null,
   "id": "e7e47d51",
   "metadata": {},
   "outputs": [],
   "source": [
    "show(db2)"
   ]
  },
  {
   "cell_type": "code",
   "execution_count": null,
   "id": "1ca07abd",
   "metadata": {},
   "outputs": [],
   "source": []
  }
 ],
 "metadata": {
  "kernelspec": {
   "display_name": "Python 3 (ipykernel)",
   "language": "python",
   "name": "python3"
  },
  "language_info": {
   "codemirror_mode": {
    "name": "ipython",
    "version": 3
   },
   "file_extension": ".py",
   "mimetype": "text/x-python",
   "name": "python",
   "nbconvert_exporter": "python",
   "pygments_lexer": "ipython3",
   "version": "3.9.9"
  }
 },
 "nbformat": 4,
 "nbformat_minor": 5
}
